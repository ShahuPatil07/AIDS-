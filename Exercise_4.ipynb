{
  "nbformat": 4,
  "nbformat_minor": 0,
  "metadata": {
    "colab": {
      "provenance": [],
      "authorship_tag": "ABX9TyMw9kwe5oObtL45ekadzMbB",
      "include_colab_link": true
    },
    "kernelspec": {
      "name": "python3",
      "display_name": "Python 3"
    },
    "language_info": {
      "name": "python"
    }
  },
  "cells": [
    {
      "cell_type": "markdown",
      "metadata": {
        "id": "view-in-github",
        "colab_type": "text"
      },
      "source": [
        "<a href=\"https://colab.research.google.com/github/ShahuPatil07/ME-228-Data-Science-in-Machine-Learning/blob/main/Exercise_4.ipynb\" target=\"_parent\"><img src=\"https://colab.research.google.com/assets/colab-badge.svg\" alt=\"Open In Colab\"/></a>"
      ]
    },
    {
      "cell_type": "code",
      "source": [
        "import numpy as np"
      ],
      "metadata": {
        "id": "Y9-0HD5a0Jjj"
      },
      "execution_count": 2,
      "outputs": []
    },
    {
      "cell_type": "code",
      "execution_count": 24,
      "metadata": {
        "colab": {
          "base_uri": "https://localhost:8080/"
        },
        "id": "QiTD4QRFz9ib",
        "outputId": "f7e59c35-d241-4821-954e-cc0e7a6500f5"
      },
      "outputs": [
        {
          "output_type": "stream",
          "name": "stdout",
          "text": [
            "answer is :  0.6688865210442195\n"
          ]
        }
      ],
      "source": [
        "#1\n",
        "ideal_case_1=0.0\n",
        "ideal_case_2=0.0\n",
        "for i in range(10000):\n",
        "\n",
        "  bag0= [1,1]\n",
        "  bag1= [0,1]\n",
        "  a= np.random.randint(0,2)\n",
        "  b= np.random.randint(0,2)\n",
        "  x=-1\n",
        "  y=-1\n",
        "  if a==0:\n",
        "    x= bag0[b]\n",
        "    if x==1:\n",
        "      ideal_case_1+=1\n",
        "      ideal_case_2+=1\n",
        "  else:\n",
        "    x= bag1[b]\n",
        "    if x==1:\n",
        "      ideal_case_1+=1\n",
        "\n",
        "print('answer is : ', ideal_case_2/ideal_case_1)\n"
      ]
    },
    {
      "cell_type": "code",
      "source": [
        "#2\n",
        "ideal=0.0\n",
        "for i in range(10000):\n",
        "  h=0.0\n",
        "  for j in range(12):\n",
        "    c= np.random.randint(0,2)\n",
        "    if c==1:\n",
        "      h+=1\n",
        "  if h==7:\n",
        "    ideal+=1\n",
        "ideal/10000"
      ],
      "metadata": {
        "colab": {
          "base_uri": "https://localhost:8080/"
        },
        "id": "IwE1UNGi60Fh",
        "outputId": "da97bf0b-e970-4a3f-e0ad-8f6edfe38b8a"
      },
      "execution_count": 23,
      "outputs": [
        {
          "output_type": "execute_result",
          "data": {
            "text/plain": [
              "0.1968"
            ]
          },
          "metadata": {},
          "execution_count": 23
        }
      ]
    },
    {
      "cell_type": "code",
      "source": [
        "#3\n",
        "ideal=0.0\n",
        "for i in range(10000):\n",
        "  f=0.0\n",
        "  for m in range(5):\n",
        "    d=np.random.randint(0,4)\n",
        "    if d==0:\n",
        "      f+=1\n",
        "  if f<3:\n",
        "    ideal+=1\n",
        "ideal/10000"
      ],
      "metadata": {
        "colab": {
          "base_uri": "https://localhost:8080/"
        },
        "id": "CTm9CbhM-9-P",
        "outputId": "e02baee5-701e-42d6-d543-b4c6f694fe49"
      },
      "execution_count": 30,
      "outputs": [
        {
          "output_type": "execute_result",
          "data": {
            "text/plain": [
              "0.8917"
            ]
          },
          "metadata": {},
          "execution_count": 30
        }
      ]
    },
    {
      "cell_type": "code",
      "source": [
        "#4\n",
        "bin=[]\n",
        "for i in range(100000):\n",
        "  e= np.random.random()\n",
        "  if e<=0.55:\n",
        "    bin.append(1)\n",
        "  else:\n",
        "    bin.append(0)\n",
        "\n",
        "ideal=0.0\n",
        "ex_pass=0.0\n",
        "for i in range(10000):\n",
        "  for i in range(10):\n",
        "    p=0\n",
        "    sample=[]\n",
        "    for s in range(10):\n",
        "      f= np.random.randint(0,100000)\n",
        "      if bin[f]==1:\n",
        "        p=1\n",
        "      sample.append(bin[f])\n",
        "    if p==0:\n",
        "      ideal+=1\n",
        "  if ideal>=1:\n",
        "    ex_pass+=1\n",
        "ex_pass/10000"
      ],
      "metadata": {
        "colab": {
          "base_uri": "https://localhost:8080/"
        },
        "id": "ujAcf5eRBD1j",
        "outputId": "28e8d556-46d7-4e3e-ce24-2371383a9caf"
      },
      "execution_count": 40,
      "outputs": [
        {
          "output_type": "execute_result",
          "data": {
            "text/plain": [
              "0.9839"
            ]
          },
          "metadata": {},
          "execution_count": 40
        }
      ]
    }
  ]
}