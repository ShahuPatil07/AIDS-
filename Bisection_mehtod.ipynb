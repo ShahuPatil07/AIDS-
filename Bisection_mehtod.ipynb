{
  "nbformat": 4,
  "nbformat_minor": 0,
  "metadata": {
    "colab": {
      "provenance": [],
      "authorship_tag": "ABX9TyOmoce6p+/d4+hQthopoi40",
      "include_colab_link": true
    },
    "kernelspec": {
      "name": "python3",
      "display_name": "Python 3"
    },
    "language_info": {
      "name": "python"
    }
  },
  "cells": [
    {
      "cell_type": "markdown",
      "metadata": {
        "id": "view-in-github",
        "colab_type": "text"
      },
      "source": [
        "<a href=\"https://colab.research.google.com/github/ShahuPatil07/ME-228-Data-Science-in-Machine-Learning/blob/main/Bisection_mehtod.ipynb\" target=\"_parent\"><img src=\"https://colab.research.google.com/assets/colab-badge.svg\" alt=\"Open In Colab\"/></a>"
      ]
    },
    {
      "cell_type": "code",
      "execution_count": 15,
      "metadata": {
        "id": "vhrwBrkxJZWq"
      },
      "outputs": [],
      "source": [
        "import math\n",
        "def fn(x):\n",
        "  return float((x-9)*(x-2))\n",
        "def bisect(l,u,e):\n",
        "  x=(u+l)/2\n",
        "  while(abs(fn(x))>e ):\n",
        "    if fn(x)>e:\n",
        "      l=x\n",
        "    else:\n",
        "      u=x\n",
        "    x=(u+l)/2\n",
        "  return x"
      ]
    },
    {
      "cell_type": "code",
      "source": [
        "bisect(-1.5,2.5,0.001)\n"
      ],
      "metadata": {
        "colab": {
          "base_uri": "https://localhost:8080/"
        },
        "id": "eEkDG4suTmqX",
        "outputId": "150ae024-6a61-497a-b52b-a7c6c3373b43"
      },
      "execution_count": 16,
      "outputs": [
        {
          "output_type": "execute_result",
          "data": {
            "text/plain": [
              "2.0"
            ]
          },
          "metadata": {},
          "execution_count": 16
        }
      ]
    }
  ]
}