{
  "nbformat": 4,
  "nbformat_minor": 0,
  "metadata": {
    "colab": {
      "provenance": [],
      "authorship_tag": "ABX9TyPk6B3IVUmA461i6Xlgvv4+",
      "include_colab_link": true
    },
    "kernelspec": {
      "name": "python3",
      "display_name": "Python 3"
    },
    "language_info": {
      "name": "python"
    }
  },
  "cells": [
    {
      "cell_type": "markdown",
      "metadata": {
        "id": "view-in-github",
        "colab_type": "text"
      },
      "source": [
        "<a href=\"https://colab.research.google.com/github/ShahuPatil07/ME-228-Data-Science-in-Machine-Learning/blob/main/Newton_Raphson_formula.ipynb\" target=\"_parent\"><img src=\"https://colab.research.google.com/assets/colab-badge.svg\" alt=\"Open In Colab\"/></a>"
      ]
    },
    {
      "cell_type": "code",
      "execution_count": 1,
      "metadata": {
        "id": "T1cK8rGpRTPg"
      },
      "outputs": [],
      "source": [
        "import math\n",
        "import sympy as sp"
      ]
    },
    {
      "cell_type": "code",
      "source": [
        "def fn(x):\n",
        "  return 2*x+3*math.cos(x)- math.exp(x)"
      ],
      "metadata": {
        "id": "QV50v2TTRa8A"
      },
      "execution_count": 3,
      "outputs": []
    },
    {
      "cell_type": "code",
      "source": [
        "min=0\n",
        "max=5\n",
        "\n",
        "x=1\n",
        "while abs(fn(x))>0.01:\n",
        "  slope= (fn(x+0.0001)-fn(x))/0.0001\n",
        "  x= x- fn(x)/slope\n",
        "print(x)"
      ],
      "metadata": {
        "colab": {
          "base_uri": "https://localhost:8080/"
        },
        "id": "NQeQcXo_Rx_7",
        "outputId": "fa3a6363-0645-4ab0-9f24-138a0f5198cd"
      },
      "execution_count": 9,
      "outputs": [
        {
          "output_type": "stream",
          "name": "stdout",
          "text": [
            "1.2404596878618979\n"
          ]
        }
      ]
    }
  ]
}